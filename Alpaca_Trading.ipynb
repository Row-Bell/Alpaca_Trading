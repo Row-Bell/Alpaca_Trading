{
 "cells": [
  {
   "cell_type": "code",
   "execution_count": 2,
   "metadata": {},
   "outputs": [],
   "source": [
    "#Initial Imports\n",
    "import os\n",
    "import pandas as pd\n",
    "from dotenv import load_dotenv\n",
    "import alpaca_trade_api as tradeapi\n",
    "%matplotlib inline"
   ]
  },
  {
   "cell_type": "code",
   "execution_count": 3,
   "metadata": {},
   "outputs": [
    {
     "data": {
      "text/plain": [
       "True"
      ]
     },
     "execution_count": 3,
     "metadata": {},
     "output_type": "execute_result"
    }
   ],
   "source": [
    "#load .env environment variables\n",
    "load_dotenv()"
   ]
  },
  {
   "cell_type": "code",
   "execution_count": 8,
   "metadata": {},
   "outputs": [],
   "source": [
    "#Set Alpaca API Key and secret\n",
    "alpaca_api_key = os.getenv(\"ALPACA_API_KEY\")\n",
    "alpaca_secret_key = os.getenv(\"ALPACA_SECRET_KEY\")\n",
    "\n",
    "#set the paper trading url\n",
    "base_url = \"https://paper-api.alpaca.markets\""
   ]
  },
  {
   "cell_type": "code",
   "execution_count": 9,
   "metadata": {},
   "outputs": [
    {
     "name": "stdout",
     "output_type": "stream",
     "text": [
      "PK7EMUYN9T0F0A0XPJ8F GfiyXOwmMp4SMUvsGnMwfbWNsBsTxQzLOLLXafT7\n"
     ]
    }
   ],
   "source": [
    "print(alpaca_api_key,alpaca_secret_key)"
   ]
  },
  {
   "cell_type": "code",
   "execution_count": 10,
   "metadata": {},
   "outputs": [
    {
     "data": {
      "text/plain": [
       "<alpaca_trade_api.rest.REST at 0x2bf17485688>"
      ]
     },
     "execution_count": 10,
     "metadata": {},
     "output_type": "execute_result"
    }
   ],
   "source": [
    "#Creates an Alpaca API object\n",
    "alpaca = tradeapi.REST(alpaca_api_key,alpaca_secret_key,base_url,'v2')\n",
    "alpaca"
   ]
  },
  {
   "cell_type": "code",
   "execution_count": 11,
   "metadata": {},
   "outputs": [
    {
     "data": {
      "text/plain": [
       "Account({   'account_blocked': False,\n",
       "    'account_number': 'PA29VJ3E8VJ9',\n",
       "    'buying_power': '336003.78',\n",
       "    'cash': '35893.68',\n",
       "    'created_at': '2021-02-17T18:37:15.049394Z',\n",
       "    'currency': 'USD',\n",
       "    'daytrade_count': 5,\n",
       "    'daytrading_buying_power': '336003.78',\n",
       "    'equity': '99896.08',\n",
       "    'id': 'b1cffd32-cb6c-46cd-8821-f94c1e2011e7',\n",
       "    'initial_margin': '32001.2',\n",
       "    'last_equity': '100000',\n",
       "    'last_maintenance_margin': '0',\n",
       "    'long_market_value': '64002.4',\n",
       "    'maintenance_margin': '19200.72',\n",
       "    'multiplier': '4',\n",
       "    'pattern_day_trader': False,\n",
       "    'portfolio_value': '99896.08',\n",
       "    'regt_buying_power': '135789.76',\n",
       "    'short_market_value': '0',\n",
       "    'shorting_enabled': True,\n",
       "    'sma': '0',\n",
       "    'status': 'ACTIVE',\n",
       "    'trade_suspended_by_user': False,\n",
       "    'trading_blocked': False,\n",
       "    'transfers_blocked': False})"
      ]
     },
     "execution_count": 11,
     "metadata": {},
     "output_type": "execute_result"
    }
   ],
   "source": [
    "#Grabbing the account information\n",
    "ACCOUNT = alpaca.get_account()\n",
    "ACCOUNT"
   ]
  },
  {
   "cell_type": "code",
   "execution_count": 14,
   "metadata": {},
   "outputs": [
    {
     "data": {
      "text/plain": [
       "\"You're order to buy 10 share(s) of ['FB', 'AAPL', 'AMZN', 'NFLX', 'GOOG'] has been filled.\""
      ]
     },
     "execution_count": 14,
     "metadata": {},
     "output_type": "execute_result"
    }
   ],
   "source": [
    "#Making an order example\n",
    "def make_an_order(ticker,shares,side,order_type,time_in_force='gtc'):\n",
    "       \n",
    "    if shares == 'all':\n",
    "\n",
    "        position = alpaca.get_position(ticker)\n",
    "        \n",
    "        \n",
    "\n",
    "        ORDER = alpaca.submit_order(\n",
    "            ticker,\n",
    "            int(position.qty),\n",
    "            side,\n",
    "            order_type,\n",
    "            time_in_force\n",
    "        )\n",
    "        \n",
    "    elif ticker == '*':\n",
    "        portfolio = alpaca.list_positions()\n",
    "        \n",
    "        for position in range(len(portfolio)):\n",
    "            ORDER = alpaca.submit_order(\n",
    "                symbol = portfolio[position].symbol,\n",
    "                qty=int(portfolio[position].qty),\n",
    "                side=side,\n",
    "                type=order_type,\n",
    "                time_in_force='gtc'\n",
    "            )\n",
    "\n",
    "    else:\n",
    "        ORDER = alpaca.submit_order(\n",
    "            ticker,\n",
    "            shares,\n",
    "            side,\n",
    "            order_type,\n",
    "            time_in_force\n",
    "        )\n",
    "\n",
    "    \n",
    "    return (f\"You're order to {side} {shares} share(s) of {ticker} has been filled.\")\n",
    "\n",
    "def buy_faang():\n",
    "    FAANG = ['FB','AAPL','AMZN','NFLX','GOOG']\n",
    "    shares = 10\n",
    "    for stock in FAANG:\n",
    "        make_an_order(stock,shares,'buy','market')\n",
    "        \n",
    "    return (f\"You're order to buy {shares} share(s) of {FAANG} has been filled.\")\n",
    "\n",
    "\n",
    "def sell_everything():\n",
    "    print(make_an_order('*','*','sell','market'))\n",
    "    return (\"You've sold everything\")\n",
    "\n",
    "buy_faang()"
   ]
  },
  {
   "cell_type": "code",
   "execution_count": 15,
   "metadata": {},
   "outputs": [
    {
     "name": "stdout",
     "output_type": "stream",
     "text": [
      "SPY moved 21.99% over the last 100 days\n"
     ]
    },
    {
     "data": {
      "text/plain": [
       "[Position({   'asset_class': 'us_equity',\n",
       "     'asset_id': 'bb2a26c0-4c77-4801-8afc-82e8142ac7b8',\n",
       "     'avg_entry_price': '549.98',\n",
       "     'change_today': '-0.0115359735499173',\n",
       "     'cost_basis': '16499.4',\n",
       "     'current_price': '550.1',\n",
       "     'exchange': 'NASDAQ',\n",
       "     'lastday_price': '556.52',\n",
       "     'market_value': '16503',\n",
       "     'qty': '30',\n",
       "     'side': 'long',\n",
       "     'symbol': 'NFLX',\n",
       "     'unrealized_intraday_pl': '3.6',\n",
       "     'unrealized_intraday_plpc': '0.0002181897523546',\n",
       "     'unrealized_pl': '3.6',\n",
       "     'unrealized_plpc': '0.0002181897523546'}),\n",
       " Position({   'asset_class': 'us_equity',\n",
       "     'asset_id': 'f30d734c-2806-4d0d-b145-f9fade61432b',\n",
       "     'avg_entry_price': '2129.13',\n",
       "     'change_today': '0.0110593077358123',\n",
       "     'cost_basis': '63873.9',\n",
       "     'current_price': '2127.38',\n",
       "     'exchange': 'NASDAQ',\n",
       "     'lastday_price': '2104.11',\n",
       "     'market_value': '63821.4',\n",
       "     'qty': '30',\n",
       "     'side': 'long',\n",
       "     'symbol': 'GOOG',\n",
       "     'unrealized_intraday_pl': '-52.5',\n",
       "     'unrealized_intraday_plpc': '-0.0008219319628205',\n",
       "     'unrealized_pl': '-52.5',\n",
       "     'unrealized_plpc': '-0.0008219319628205'}),\n",
       " Position({   'asset_class': 'us_equity',\n",
       "     'asset_id': 'fc6a5dcd-4a70-4b8d-b64f-d83a6dae9ba4',\n",
       "     'avg_entry_price': '272.85',\n",
       "     'change_today': '0.0092421441774492',\n",
       "     'cost_basis': '8185.5',\n",
       "     'current_price': '273',\n",
       "     'exchange': 'NASDAQ',\n",
       "     'lastday_price': '270.5',\n",
       "     'market_value': '8190',\n",
       "     'qty': '30',\n",
       "     'side': 'long',\n",
       "     'symbol': 'FB',\n",
       "     'unrealized_intraday_pl': '4.5',\n",
       "     'unrealized_intraday_plpc': '0.0005497526113249',\n",
       "     'unrealized_pl': '4.5',\n",
       "     'unrealized_plpc': '0.0005497526113249'}),\n",
       " Position({   'asset_class': 'us_equity',\n",
       "     'asset_id': 'f801f835-bfe6-4a9d-a6b1-ccbb84bfd75f',\n",
       "     'avg_entry_price': '3317.484',\n",
       "     'change_today': '0.0119870275283658',\n",
       "     'cost_basis': '99524.52',\n",
       "     'current_price': '3317',\n",
       "     'exchange': 'NASDAQ',\n",
       "     'lastday_price': '3277.71',\n",
       "     'market_value': '99510',\n",
       "     'qty': '30',\n",
       "     'side': 'long',\n",
       "     'symbol': 'AMZN',\n",
       "     'unrealized_intraday_pl': '-14.52',\n",
       "     'unrealized_intraday_plpc': '-0.0001458936953426',\n",
       "     'unrealized_pl': '-14.52',\n",
       "     'unrealized_plpc': '-0.0001458936953426'}),\n",
       " Position({   'asset_class': 'us_equity',\n",
       "     'asset_id': 'b0b6dd9d-8b9b-48a9-ba46-b9d54906e415',\n",
       "     'avg_entry_price': '130.6133333333333333',\n",
       "     'change_today': '-0.0353845017359829',\n",
       "     'cost_basis': '3918.4',\n",
       "     'current_price': '130.58',\n",
       "     'exchange': 'NASDAQ',\n",
       "     'lastday_price': '135.37',\n",
       "     'market_value': '3917.4',\n",
       "     'qty': '30',\n",
       "     'side': 'long',\n",
       "     'symbol': 'AAPL',\n",
       "     'unrealized_intraday_pl': '-1',\n",
       "     'unrealized_intraday_plpc': '-0.0002552062066149',\n",
       "     'unrealized_pl': '-1',\n",
       "     'unrealized_plpc': '-0.0002552062066149'})]"
      ]
     },
     "execution_count": 15,
     "metadata": {},
     "output_type": "execute_result"
    }
   ],
   "source": [
    "#Getting market information\n",
    "barset = alpaca.get_barset('SPY', 'day')\n",
    "spy_bars = barset['SPY']\n",
    "\n",
    "\n",
    "#see how much SPY moved in that timeframe\n",
    "week_open = spy_bars[0].o\n",
    "week_close= spy_bars[-1].c\n",
    "percent_change = round((week_close-week_open)/week_open*100,2)\n",
    "print(f\"SPY moved {percent_change}% over the last 100 days\")\n",
    "\n",
    "portfolio = alpaca.list_positions()\n",
    "portfolio"
   ]
  },
  {
   "cell_type": "code",
   "execution_count": 16,
   "metadata": {},
   "outputs": [
    {
     "data": {
      "text/plain": [
       "{'action': 'authenticate',\n",
       " 'data': {'key_id': 'PK7EMUYN9T0F0A0XPJ8F',\n",
       "  'secret_key': 'GfiyXOwmMp4SMUvsGnMwfbWNsBsTxQzLOLLXafT7'}}"
      ]
     },
     "execution_count": 16,
     "metadata": {},
     "output_type": "execute_result"
    }
   ],
   "source": [
    "{\n",
    "    \"action\": \"authenticate\",\n",
    "    \"data\": {\n",
    "        \"key_id\": alpaca_api_key,\n",
    "        \"secret_key\": alpaca_secret_key\n",
    "    }\n",
    "}"
   ]
  },
  {
   "cell_type": "code",
   "execution_count": null,
   "metadata": {},
   "outputs": [],
   "source": []
  }
 ],
 "metadata": {
  "kernelspec": {
   "display_name": "Python 3",
   "language": "python",
   "name": "python3"
  },
  "language_info": {
   "codemirror_mode": {
    "name": "ipython",
    "version": 3
   },
   "file_extension": ".py",
   "mimetype": "text/x-python",
   "name": "python",
   "nbconvert_exporter": "python",
   "pygments_lexer": "ipython3",
   "version": "3.7.9"
  }
 },
 "nbformat": 4,
 "nbformat_minor": 4
}
