{
 "cells": [
  {
   "cell_type": "code",
   "execution_count": null,
   "metadata": {},
   "outputs": [],
   "source": [
    "#Initial Imports\n",
    "import os\n",
    "import pandas as pd\n",
    "from dotenv import load_dotenv\n",
    "import alpaca_trade_api as tradeapi\n",
    "%matplotlib inline"
   ]
  },
  {
   "cell_type": "code",
   "execution_count": null,
   "metadata": {},
   "outputs": [],
   "source": [
    "#load .env environment variables\n",
    "load_dotenv()"
   ]
  },
  {
   "cell_type": "code",
   "execution_count": null,
   "metadata": {},
   "outputs": [],
   "source": [
    "#Set Alpaca API Key and secret\n",
    "alpaca_api_key = os.getenv(\"ALPACA_API_KEY\")\n",
    "alpaca_secret_key = os.getenv(\"ALPACA_SECRET_KEY\")\n",
    "\n",
    "#set the paper trading url\n",
    "base_url = \"https://paper-api.alpaca.markets\""
   ]
  },
  {
   "cell_type": "code",
   "execution_count": null,
   "metadata": {},
   "outputs": [],
   "source": [
    "print(alpaca_api_key,alpaca_secret_key)"
   ]
  },
  {
   "cell_type": "code",
   "execution_count": null,
   "metadata": {},
   "outputs": [],
   "source": [
    "#Creates an Alpaca API object\n",
    "alpaca = tradeapi.REST(alpaca_api_key,alpaca_secret_key,base_url,'v2')\n",
    "alpaca"
   ]
  },
  {
   "cell_type": "code",
   "execution_count": null,
   "metadata": {},
   "outputs": [],
   "source": [
    "#Grabbing the account information\n",
    "ACCOUNT = alpaca.get_account()\n",
    "ACCOUNT"
   ]
  },
  {
   "cell_type": "code",
   "execution_count": 1,
   "metadata": {},
   "outputs": [],
   "source": [
    "#Making an order example\n",
    "def make_an_order(ticker,shares,side,order_type,time_in_force='gtc'):\n",
    "       \n",
    "    if shares == 'all':\n",
    "\n",
    "        position = alpaca.get_position(ticker)\n",
    "        \n",
    "        \n",
    "\n",
    "        ORDER = alpaca.submit_order(\n",
    "            ticker,\n",
    "            int(position.qty),\n",
    "            side,\n",
    "            order_type,\n",
    "            time_in_force\n",
    "        )\n",
    "        \n",
    "    elif ticker == '*':\n",
    "        portfolio = alpaca.list_positions()\n",
    "        \n",
    "        for position in range(len(portfolio)):\n",
    "            ORDER = alpaca.submit_order(\n",
    "                symbol = portfolio[position].symbol,\n",
    "                qty=int(portfolio[position].qty),\n",
    "                side=side,\n",
    "                type=order_type,\n",
    "                time_in_force='gtc'\n",
    "            )\n",
    "\n",
    "    else:\n",
    "        ORDER = alpaca.submit_order(\n",
    "            ticker,\n",
    "            shares,\n",
    "            side,\n",
    "            order_type,\n",
    "            time_in_force\n",
    "        )\n",
    "\n",
    "    \n",
    "    return (f\"You're order to {side} {shares} share(s) of {ticker} has been filled.\")\n",
    "\n",
    "def buy_faang():\n",
    "    FAANG = ['FB','AAPL','AMZN','NFLX','GOOG']\n",
    "    shares = 10\n",
    "    for stock in FAANG:\n",
    "        make_an_order(stock,shares,'buy','market')\n",
    "        \n",
    "    return (f\"You're order to buy {shares} share(s) of {FAANG} has been filled.\")\n",
    "\n",
    "\n",
    "def sell_everything():\n",
    "    print(make_an_order('*','*','sell','market'))\n",
    "    return (\"You've sold everything\")\n",
    "\n",
    "#buy_faang()\n",
    "#sell_everything()"
   ]
  },
  {
   "cell_type": "code",
   "execution_count": 2,
   "metadata": {},
   "outputs": [
    {
     "ename": "NameError",
     "evalue": "name 'alpaca' is not defined",
     "output_type": "error",
     "traceback": [
      "\u001b[1;31m---------------------------------------------------------------------------\u001b[0m",
      "\u001b[1;31mNameError\u001b[0m                                 Traceback (most recent call last)",
      "\u001b[1;32m<ipython-input-2-0258978e4d01>\u001b[0m in \u001b[0;36m<module>\u001b[1;34m\u001b[0m\n\u001b[0;32m      1\u001b[0m \u001b[1;31m#Getting market information\u001b[0m\u001b[1;33m\u001b[0m\u001b[1;33m\u001b[0m\u001b[1;33m\u001b[0m\u001b[0m\n\u001b[1;32m----> 2\u001b[1;33m \u001b[0mbarset\u001b[0m \u001b[1;33m=\u001b[0m \u001b[0malpaca\u001b[0m\u001b[1;33m.\u001b[0m\u001b[0mget_barset\u001b[0m\u001b[1;33m(\u001b[0m\u001b[1;34m'SPY'\u001b[0m\u001b[1;33m,\u001b[0m \u001b[1;34m'day'\u001b[0m\u001b[1;33m)\u001b[0m\u001b[1;33m\u001b[0m\u001b[1;33m\u001b[0m\u001b[0m\n\u001b[0m\u001b[0;32m      3\u001b[0m \u001b[0mspy_bars\u001b[0m \u001b[1;33m=\u001b[0m \u001b[0mbarset\u001b[0m\u001b[1;33m[\u001b[0m\u001b[1;34m'SPY'\u001b[0m\u001b[1;33m]\u001b[0m\u001b[1;33m\u001b[0m\u001b[1;33m\u001b[0m\u001b[0m\n\u001b[0;32m      4\u001b[0m \u001b[1;33m\u001b[0m\u001b[0m\n\u001b[0;32m      5\u001b[0m \u001b[1;33m\u001b[0m\u001b[0m\n",
      "\u001b[1;31mNameError\u001b[0m: name 'alpaca' is not defined"
     ]
    }
   ],
   "source": [
    "#Getting market information\n",
    "barset = alpaca.get_barset('SPY', 'day')\n",
    "spy_bars = barset['SPY']\n",
    "\n",
    "\n",
    "#see how much SPY moved in that timeframe\n",
    "week_open = spy_bars[0].o\n",
    "week_close= spy_bars[-1].c\n",
    "percent_change = round((week_close-week_open)/week_open*100,2)\n",
    "print(f\"SPY moved {percent_change}% over the last 100 days\")\n",
    "\n",
    "portfolio = alpaca.list_positions()\n",
    "portfolio"
   ]
  },
  {
   "cell_type": "code",
   "execution_count": null,
   "metadata": {},
   "outputs": [
    {
     "name": "stdout",
     "output_type": "stream",
     "text": [
      "opened\n"
     ]
    }
   ],
   "source": [
    "import websocket, json\n",
    "\n",
    "def on_open(ws):\n",
    "    print(\"opened\")\n",
    "    auth_data = {\n",
    "        \"action\": \"authenticate\",\n",
    "        \"data\": {\"key_id\": alpaca_api_key, \"secret_key\": alpaca_secret_key}\n",
    "    }\n",
    "\n",
    "    ws.send(json.dumps(auth_data))\n",
    "\n",
    "    listen_message = {\"action\": \"listen\", \"data\": {\"streams\": [\"T.SPY\"]}}\n",
    "\n",
    "    ws.send(json.dumps(listen_message))\n",
    "    SPY = json.dumps(listen_message)\n",
    "    print(SPY.p)\n",
    "\n",
    "def on_message(ws, message):\n",
    "    print(\"received a message\")\n",
    "    print(message)\n",
    "\n",
    "def on_close(ws):\n",
    "    print(\"closed connection\")\n",
    "\n",
    "socket = \"wss://data.alpaca.markets/stream\"\n",
    "\n",
    "ws = websocket.WebSocketApp(socket, on_open=on_open, on_message=on_message, on_close=on_close)\n",
    "ws.run_forever()"
   ]
  },
  {
   "cell_type": "code",
   "execution_count": null,
   "metadata": {},
   "outputs": [],
   "source": []
  },
  {
   "cell_type": "code",
   "execution_count": null,
   "metadata": {},
   "outputs": [],
   "source": []
  }
 ],
 "metadata": {
  "kernelspec": {
   "display_name": "Python 3",
   "language": "python",
   "name": "python3"
  },
  "language_info": {
   "codemirror_mode": {
    "name": "ipython",
    "version": 3
   },
   "file_extension": ".py",
   "mimetype": "text/x-python",
   "name": "python",
   "nbconvert_exporter": "python",
   "pygments_lexer": "ipython3",
   "version": "3.7.9"
  }
 },
 "nbformat": 4,
 "nbformat_minor": 4
}
