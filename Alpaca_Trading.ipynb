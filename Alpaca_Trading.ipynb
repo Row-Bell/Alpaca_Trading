{
 "cells": [
  {
   "cell_type": "code",
   "execution_count": 1,
   "metadata": {},
   "outputs": [],
   "source": [
    "#Initial Imports\n",
    "import os\n",
    "import pandas as pd\n",
    "from dotenv import load_dotenv\n",
    "import alpaca_trade_api as tradeapi\n",
    "%matplotlib inline"
   ]
  },
  {
   "cell_type": "code",
   "execution_count": 4,
   "metadata": {},
   "outputs": [
    {
     "data": {
      "text/plain": [
       "True"
      ]
     },
     "execution_count": 4,
     "metadata": {},
     "output_type": "execute_result"
    }
   ],
   "source": [
    "#load .env environment variables\n",
    "load_dotenv()"
   ]
  },
  {
   "cell_type": "code",
   "execution_count": 6,
   "metadata": {},
   "outputs": [],
   "source": [
    "#Set Alpaca API Key and secret\n",
    "alpaca_api_key = os.getenv(\"ALPACA_API_KEY\")\n",
    "alpaca_secret_key = os.getenv(\"ALPACA_SECRET_KEY\")\n",
    "\n",
    "#set the paper trading url\n",
    "base_url = \"https://paper-api.alpaca.markets\""
   ]
  },
  {
   "cell_type": "code",
   "execution_count": 7,
   "metadata": {},
   "outputs": [
    {
     "name": "stdout",
     "output_type": "stream",
     "text": [
      "<class 'str'> <class 'str'>\n"
     ]
    }
   ],
   "source": [
    "print(type(alpaca_api_key),type(alpaca_secret_key))"
   ]
  },
  {
   "cell_type": "code",
   "execution_count": 8,
   "metadata": {},
   "outputs": [
    {
     "data": {
      "text/plain": [
       "<alpaca_trade_api.rest.REST at 0x24ad1915508>"
      ]
     },
     "execution_count": 8,
     "metadata": {},
     "output_type": "execute_result"
    }
   ],
   "source": [
    "#Creates an Alpaca API object\n",
    "alpaca = tradeapi.REST(alpaca_api_key,alpaca_secret_key,base_url,'v2')\n",
    "alpaca"
   ]
  },
  {
   "cell_type": "code",
   "execution_count": 9,
   "metadata": {},
   "outputs": [
    {
     "data": {
      "text/plain": [
       "Account({   'account_blocked': False,\n",
       "    'account_number': 'PA26NUK86XJL',\n",
       "    'buying_power': '400000',\n",
       "    'cash': '100000',\n",
       "    'created_at': '2021-02-13T16:37:24.300389Z',\n",
       "    'currency': 'USD',\n",
       "    'daytrade_count': 0,\n",
       "    'daytrading_buying_power': '400000',\n",
       "    'equity': '100000',\n",
       "    'id': 'ea855699-6d3b-41cc-b73b-031222417bf3',\n",
       "    'initial_margin': '0',\n",
       "    'last_equity': '100000',\n",
       "    'last_maintenance_margin': '0',\n",
       "    'long_market_value': '0',\n",
       "    'maintenance_margin': '0',\n",
       "    'multiplier': '4',\n",
       "    'pattern_day_trader': False,\n",
       "    'portfolio_value': '100000',\n",
       "    'regt_buying_power': '200000',\n",
       "    'short_market_value': '0',\n",
       "    'shorting_enabled': True,\n",
       "    'sma': '0',\n",
       "    'status': 'ACTIVE',\n",
       "    'trade_suspended_by_user': False,\n",
       "    'trading_blocked': False,\n",
       "    'transfers_blocked': False})"
      ]
     },
     "execution_count": 9,
     "metadata": {},
     "output_type": "execute_result"
    }
   ],
   "source": [
    "#Grabbing the account information\n",
    "ACCOUNT = alpaca.get_account()\n",
    "ACCOUNT"
   ]
  },
  {
   "cell_type": "code",
   "execution_count": 76,
   "metadata": {},
   "outputs": [
    {
     "name": "stdout",
     "output_type": "stream",
     "text": [
      "You're order to sell 2000 shares of SNDL has been filled.\n"
     ]
    }
   ],
   "source": [
    "#Making an order example\n",
    "def make_an_order(ticker,shares,side,order_type,time_in_force='gtc'):\n",
    "       \n",
    "    if shares == 'all':\n",
    "\n",
    "        position = alpaca.get_position(ticker)\n",
    "        \n",
    "        \n",
    "\n",
    "        ORDER = alpaca.submit_order(\n",
    "            ticker,\n",
    "            int(position.qty),\n",
    "            side,\n",
    "            order_type,\n",
    "            time_in_force\n",
    "        )\n",
    "        \n",
    "    elif ticker == '*':\n",
    "        portfolio = alpaca.list_positions()\n",
    "        \n",
    "        for position in range(len(portfolio)):\n",
    "            ORDER = alpaca.submit_order(\n",
    "                symbol = portfolio[position].symbol,\n",
    "                qty=int(portfolio[position].qty),\n",
    "                side=side,\n",
    "                type=order_type,\n",
    "                time_in_force='gtc'\n",
    "            )\n",
    "\n",
    "    else:\n",
    "        ORDER = alpaca.submit_order(\n",
    "            ticker,\n",
    "            shares,\n",
    "            side,\n",
    "            order_type,\n",
    "            time_in_force\n",
    "        )\n",
    "\n",
    "    ORDER\n",
    "    return (f\"You're order to {side} {shares} shares of {ticker} has been filled.\")\n",
    "\n",
    "print(make_an_order('SNDL',2000,'sell','market'))"
   ]
  },
  {
   "cell_type": "code",
   "execution_count": 62,
   "metadata": {},
   "outputs": [
    {
     "name": "stdout",
     "output_type": "stream",
     "text": [
      "SPY moved 21.28% over the last 100 days\n"
     ]
    },
    {
     "data": {
      "text/plain": [
       "[Position({   'asset_class': 'us_equity',\n",
       "     'asset_id': 'b6d1aa75-5c9c-4353-a305-9e2caa1925ab',\n",
       "     'avg_entry_price': '241.94',\n",
       "     'change_today': '-0.0132658475856157',\n",
       "     'cost_basis': '24194',\n",
       "     'current_price': '241.74',\n",
       "     'exchange': 'NASDAQ',\n",
       "     'lastday_price': '244.99',\n",
       "     'market_value': '24174',\n",
       "     'qty': '100',\n",
       "     'side': 'long',\n",
       "     'symbol': 'MSFT',\n",
       "     'unrealized_intraday_pl': '-20',\n",
       "     'unrealized_intraday_plpc': '-0.0008266512358436',\n",
       "     'unrealized_pl': '-20',\n",
       "     'unrealized_plpc': '-0.0008266512358436'}),\n",
       " Position({   'asset_class': 'us_equity',\n",
       "     'asset_id': 'b0b6dd9d-8b9b-48a9-ba46-b9d54906e415',\n",
       "     'avg_entry_price': '129.835',\n",
       "     'change_today': '-0.039890670015513',\n",
       "     'cost_basis': '25967',\n",
       "     'current_price': '129.97',\n",
       "     'exchange': 'NASDAQ',\n",
       "     'lastday_price': '135.37',\n",
       "     'market_value': '25994',\n",
       "     'qty': '200',\n",
       "     'side': 'long',\n",
       "     'symbol': 'AAPL',\n",
       "     'unrealized_intraday_pl': '27',\n",
       "     'unrealized_intraday_plpc': '0.0010397812608311',\n",
       "     'unrealized_pl': '27',\n",
       "     'unrealized_plpc': '0.0010397812608311'})]"
      ]
     },
     "execution_count": 62,
     "metadata": {},
     "output_type": "execute_result"
    }
   ],
   "source": [
    "#Getting market information\n",
    "barset = alpaca.get_barset('SPY', 'day')\n",
    "spy_bars = barset['SPY']\n",
    "\n",
    "\n",
    "#see how much SPY moved in that timeframe\n",
    "week_open = spy_bars[0].o\n",
    "week_close= spy_bars[-1].c\n",
    "percent_change = round((week_close-week_open)/week_open*100,2)\n",
    "print(f\"SPY moved {percent_change}% over the last 100 days\")\n",
    "\n",
    "portfolio = alpaca.list_positions()\n",
    "portfolio"
   ]
  },
  {
   "cell_type": "code",
   "execution_count": null,
   "metadata": {},
   "outputs": [],
   "source": []
  },
  {
   "cell_type": "code",
   "execution_count": null,
   "metadata": {},
   "outputs": [],
   "source": []
  }
 ],
 "metadata": {
  "kernelspec": {
   "display_name": "Python 3",
   "language": "python",
   "name": "python3"
  },
  "language_info": {
   "codemirror_mode": {
    "name": "ipython",
    "version": 3
   },
   "file_extension": ".py",
   "mimetype": "text/x-python",
   "name": "python",
   "nbconvert_exporter": "python",
   "pygments_lexer": "ipython3",
   "version": "3.7.9"
  }
 },
 "nbformat": 4,
 "nbformat_minor": 4
}
